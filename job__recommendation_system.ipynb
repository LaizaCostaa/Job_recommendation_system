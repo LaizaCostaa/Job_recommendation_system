{
  "nbformat": 4,
  "nbformat_minor": 0,
  "metadata": {
    "colab": {
      "provenance": [],
      "mount_file_id": "14a0U9WajrhsEw2Zk3QF2C9KD793JzSlY",
      "authorship_tag": "ABX9TyOOkSmbxIMCB39gvP2VHYbN",
      "include_colab_link": true
    },
    "kernelspec": {
      "name": "python3",
      "display_name": "Python 3"
    },
    "language_info": {
      "name": "python"
    }
  },
  "cells": [
    {
      "cell_type": "markdown",
      "metadata": {
        "id": "view-in-github",
        "colab_type": "text"
      },
      "source": [
        "<a href=\"https://colab.research.google.com/github/LaizaCostaa/Job_recommendation_system/blob/main/job__recommendation_system.ipynb\" target=\"_parent\"><img src=\"https://colab.research.google.com/assets/colab-badge.svg\" alt=\"Open In Colab\"/></a>"
      ]
    },
    {
      "cell_type": "code",
      "execution_count": null,
      "metadata": {
        "id": "oi8bRXZPcrbG"
      },
      "outputs": [],
      "source": [
        "import pandas as pd\n",
        "from sklearn.feature_extraction.text import TfidfVectorizer\n",
        "from sklearn.metrics.pairwise import cosine_similarity"
      ]
    },
    {
      "cell_type": "code",
      "source": [
        "!pip install openai==0.28.0"
      ],
      "metadata": {
        "colab": {
          "base_uri": "https://localhost:8080/"
        },
        "id": "anFkMIe99QvE",
        "outputId": "fb415c11-6b05-4cee-af51-ccb92effb2ad"
      },
      "execution_count": null,
      "outputs": [
        {
          "output_type": "stream",
          "name": "stdout",
          "text": [
            "Requirement already satisfied: openai==0.28.0 in /usr/local/lib/python3.10/dist-packages (0.28.0)\n",
            "Requirement already satisfied: requests>=2.20 in /usr/local/lib/python3.10/dist-packages (from openai==0.28.0) (2.32.3)\n",
            "Requirement already satisfied: tqdm in /usr/local/lib/python3.10/dist-packages (from openai==0.28.0) (4.66.5)\n",
            "Requirement already satisfied: aiohttp in /usr/local/lib/python3.10/dist-packages (from openai==0.28.0) (3.10.5)\n",
            "Requirement already satisfied: charset-normalizer<4,>=2 in /usr/local/lib/python3.10/dist-packages (from requests>=2.20->openai==0.28.0) (3.3.2)\n",
            "Requirement already satisfied: idna<4,>=2.5 in /usr/local/lib/python3.10/dist-packages (from requests>=2.20->openai==0.28.0) (3.10)\n",
            "Requirement already satisfied: urllib3<3,>=1.21.1 in /usr/local/lib/python3.10/dist-packages (from requests>=2.20->openai==0.28.0) (2.2.3)\n",
            "Requirement already satisfied: certifi>=2017.4.17 in /usr/local/lib/python3.10/dist-packages (from requests>=2.20->openai==0.28.0) (2024.8.30)\n",
            "Requirement already satisfied: aiohappyeyeballs>=2.3.0 in /usr/local/lib/python3.10/dist-packages (from aiohttp->openai==0.28.0) (2.4.0)\n",
            "Requirement already satisfied: aiosignal>=1.1.2 in /usr/local/lib/python3.10/dist-packages (from aiohttp->openai==0.28.0) (1.3.1)\n",
            "Requirement already satisfied: attrs>=17.3.0 in /usr/local/lib/python3.10/dist-packages (from aiohttp->openai==0.28.0) (24.2.0)\n",
            "Requirement already satisfied: frozenlist>=1.1.1 in /usr/local/lib/python3.10/dist-packages (from aiohttp->openai==0.28.0) (1.4.1)\n",
            "Requirement already satisfied: multidict<7.0,>=4.5 in /usr/local/lib/python3.10/dist-packages (from aiohttp->openai==0.28.0) (6.1.0)\n",
            "Requirement already satisfied: yarl<2.0,>=1.0 in /usr/local/lib/python3.10/dist-packages (from aiohttp->openai==0.28.0) (1.11.1)\n",
            "Requirement already satisfied: async-timeout<5.0,>=4.0 in /usr/local/lib/python3.10/dist-packages (from aiohttp->openai==0.28.0) (4.0.3)\n",
            "Requirement already satisfied: typing-extensions>=4.1.0 in /usr/local/lib/python3.10/dist-packages (from multidict<7.0,>=4.5->aiohttp->openai==0.28.0) (4.12.2)\n"
          ]
        }
      ]
    },
    {
      "cell_type": "code",
      "source": [
        "import openai"
      ],
      "metadata": {
        "id": "Lt2r0Y_49PqO"
      },
      "execution_count": null,
      "outputs": []
    },
    {
      "cell_type": "code",
      "source": [
        "from google.colab import drive"
      ],
      "metadata": {
        "id": "jPVgfZQ_DKQX"
      },
      "execution_count": null,
      "outputs": []
    },
    {
      "cell_type": "code",
      "source": [
        "# Configurar acesso ao Google Drive\n",
        "drive.mount('/content/drive')\n",
        "\n",
        "# Carregar dados das tabelas\n",
        "talentos_resumo = pd.read_excel('/content/drive/MyDrive/Portfólio/sistema_recomendacao_vagas/talentos_resumo.xlsx')\n",
        "talentos_informacoes_gerais = pd.read_excel('/content/drive/MyDrive/Portfólio/sistema_recomendacao_vagas/talentos_informacoes_gerais.xlsx')\n",
        "talentos_competencias = pd.read_excel('/content/drive/MyDrive/Portfólio/sistema_recomendacao_vagas/talentos_competencias.xlsx')\n",
        "talentos_educacao = pd.read_excel('/content/drive/MyDrive/Portfólio/sistema_recomendacao_vagas/talentos_educacao.xlsx')\n",
        "talentos_experiencia = pd.read_excel('/content/drive/MyDrive/Portfólio/sistema_recomendacao_vagas/talentos_experiencia.xlsx')\n",
        "vagas_informacoes = pd.read_excel('/content/drive/MyDrive/Portfólio/sistema_recomendacao_vagas/vagas_informacoes (5).xlsx')\n"
      ],
      "metadata": {
        "colab": {
          "base_uri": "https://localhost:8080/"
        },
        "id": "cN8mtLrNcvTT",
        "outputId": "a79425b9-0c57-421e-c0e9-1de8814b7abd"
      },
      "execution_count": null,
      "outputs": [
        {
          "output_type": "stream",
          "name": "stdout",
          "text": [
            "Drive already mounted at /content/drive; to attempt to forcibly remount, call drive.mount(\"/content/drive\", force_remount=True).\n"
          ]
        }
      ]
    },
    {
      "cell_type": "markdown",
      "source": [
        "# **PRÉ-PROCESSAMENTO**"
      ],
      "metadata": {
        "id": "oIu5Ov26AtxM"
      }
    },
    {
      "cell_type": "code",
      "source": [
        "# Remover a coluna 'empresa_experiencia' da tabela de experiência e 'instituicao' da tabela de educação\n",
        "talentos_experiencia_clean = talentos_experiencia.drop(columns=['empresa_experiencia'])\n",
        "talentos_educacao_clean = talentos_educacao.drop(columns=['instituicao'], errors='ignore')"
      ],
      "metadata": {
        "id": "mb9BUfMvAMIS"
      },
      "execution_count": null,
      "outputs": []
    },
    {
      "cell_type": "code",
      "source": [
        "# Criar o texto de experiência sem o nome da empresa\n",
        "experiencia_texto = \"\\n\".join([f\"{row['cargo_experiencia']} de {row['inicio']} até {row['termino']}\" for idx, row in talentos_experiencia_clean.iterrows()])"
      ],
      "metadata": {
        "id": "iGrnFPEIAamj"
      },
      "execution_count": null,
      "outputs": []
    },
    {
      "cell_type": "code",
      "source": [
        "# Preencher valores ausentes com uma string vazia\n",
        "talentos_resumo.fillna('', inplace=True)\n",
        "talentos_competencias.fillna('', inplace=True)\n",
        "talentos_experiencia_clean.fillna('', inplace=True)\n",
        "talentos_educacao_clean.fillna('', inplace=True)"
      ],
      "metadata": {
        "colab": {
          "base_uri": "https://localhost:8080/"
        },
        "id": "9tjODIl2AzIH",
        "outputId": "6ba6ae0a-cbaf-4e31-8701-96f8c594c651"
      },
      "execution_count": null,
      "outputs": [
        {
          "output_type": "stream",
          "name": "stderr",
          "text": [
            "<ipython-input-38-d672db8cc2ed>:4: FutureWarning: Setting an item of incompatible dtype is deprecated and will raise in a future error of pandas. Value '' has dtype incompatible with float64, please explicitly cast to a compatible dtype first.\n",
            "  talentos_experiencia_clean.fillna('', inplace=True)\n"
          ]
        }
      ]
    },
    {
      "cell_type": "code",
      "source": [
        "# Remover duplicatas com base no id_candidato\n",
        "talentos_resumo.drop_duplicates(subset='id_candidato', inplace=True)\n",
        "talentos_competencias.drop_duplicates(subset='id_candidato', inplace=True)\n",
        "talentos_experiencia_clean.drop_duplicates(subset='id_candidato', inplace=True)\n",
        "talentos_educacao_clean.drop_duplicates(subset='id_candidato', inplace=True)"
      ],
      "metadata": {
        "id": "A4JZ2kKDA6Bt"
      },
      "execution_count": null,
      "outputs": []
    },
    {
      "cell_type": "code",
      "source": [
        "# Converter para minúsculas e remover espaços extras\n",
        "talentos_resumo['resumo'] = talentos_resumo['resumo'].str.lower().str.strip()\n",
        "talentos_competencias['competencias'] = talentos_competencias['competencias'].str.lower().str.strip()\n",
        "talentos_educacao_clean['curso'] = talentos_educacao_clean['curso'].str.lower().str.strip()"
      ],
      "metadata": {
        "id": "-XZRrqGiA794"
      },
      "execution_count": null,
      "outputs": []
    },
    {
      "cell_type": "code",
      "source": [
        "# Converter colunas de data para formato datetime\n",
        "talentos_experiencia_clean['inicio'] = pd.to_datetime(talentos_experiencia_clean['inicio'])\n",
        "talentos_experiencia_clean['termino'] = pd.to_datetime(talentos_experiencia_clean['termino'])"
      ],
      "metadata": {
        "id": "prJmZ_Y3BFVS"
      },
      "execution_count": null,
      "outputs": []
    },
    {
      "cell_type": "code",
      "source": [
        "# Calcular tempo de experiência em meses\n",
        "talentos_experiencia_clean['tempo_total'] = (talentos_experiencia_clean['termino'] - talentos_experiencia_clean['inicio']).dt.days // 30\n"
      ],
      "metadata": {
        "id": "SJ1sSCohBJvN"
      },
      "execution_count": null,
      "outputs": []
    },
    {
      "cell_type": "markdown",
      "source": [
        "# **MONTANDO O SISTEMA DE RECOMENDAÇÃO**\n"
      ],
      "metadata": {
        "id": "U3f_I3VwBZcp"
      }
    },
    {
      "cell_type": "code",
      "source": [
        "def set_openai_api_key():\n",
        "    with open('/content/drive/MyDrive/Portfólio/projeto_recrutamento/open_ai_key.txt') as file:\n",
        "        OPENAI_API_KEY = file.read().strip()\n",
        "        openai.api_key = OPENAI_API_KEY\n",
        "\n",
        "\n",
        "set_openai_api_key()"
      ],
      "metadata": {
        "id": "TKdd1P-kZId0"
      },
      "execution_count": null,
      "outputs": []
    },
    {
      "cell_type": "markdown",
      "source": [
        "1. Recomendação para 1 candidato (id como variável de entrada)"
      ],
      "metadata": {
        "id": "bfkY8z9-P-_X"
      }
    },
    {
      "cell_type": "code",
      "source": [
        "# Função para recomendação de vaga\n",
        "def recomendar_vaga_completa(id_candidato):\n",
        "    # Informações de exemplo\n",
        "    candidato = talentos_resumo[talentos_resumo['id_candidato'] == id_candidato]\n",
        "    competencias = talentos_competencias[talentos_competencias['id_candidato'] == id_candidato]\n",
        "    experiencia = talentos_experiencia_clean[talentos_experiencia_clean['id_candidato'] == id_candidato]\n",
        "    educacao = talentos_educacao_clean[talentos_educacao_clean['id_candidato'] == id_candidato]\n",
        "\n",
        "    # Preparar as informações do candidato\n",
        "    resumo_candidato = candidato['resumo'].values[0]\n",
        "    palavras_chave = candidato['palavras_chave'].values[0]\n",
        "    competencias_texto = \", \".join(competencias['competencias'].values)\n",
        "    experiencia_texto = \"\\n\".join([f\"{row['cargo_experiencia']} de {row['inicio']} até {row['termino']}\" for idx, row in experiencia.iterrows()])\n",
        "    educacao_texto = \"\\n\".join([f\"{row['grau']} em {row['curso']}\" for idx, row in educacao.iterrows()])\n",
        "\n",
        "    # Gerar o prompt\n",
        "    prompt = f\"\"\"\n",
        "    Aqui está o perfil de um candidato:\n",
        "\n",
        "    Resumo: {resumo_candidato}\n",
        "    Palavras-chave: {palavras_chave}\n",
        "    Competências: {competencias_texto}\n",
        "    Experiência:\n",
        "    {experiencia_texto}\n",
        "    Educação:\n",
        "    {educacao_texto}\n",
        "\n",
        "    Com base nesses detalhes, recomende uma vaga adequada entre as seguintes opções de vagas:\n",
        "    {vagas_informacoes[['vaga', 'requisitos']].to_string(index=False)}\n",
        "    \"\"\"\n",
        "\n",
        "    # Requisição para a API usando a nova interface de chat\n",
        "    response = openai.ChatCompletion.create(\n",
        "        model=\"gpt-4\",\n",
        "        messages=[\n",
        "            {\"role\": \"system\", \"content\": \"Você é um assistente que ajuda a recomendar vagas de trabalho.\"},\n",
        "            {\"role\": \"user\", \"content\": prompt}\n",
        "        ]\n",
        "    )\n",
        "\n",
        "    # Exibir a resposta\n",
        "    recomendacao = response['choices'][0]['message']['content']\n",
        "    return recomendacao\n",
        "\n",
        "\n",
        "#exemplo de uso\n",
        "id_candidato = 1  # ID desejado\n",
        "recomendacao = recomendar_vaga_completa(id_candidato)\n",
        "print(recomendacao)\n"
      ],
      "metadata": {
        "id": "bDe1vX8j_Lby",
        "colab": {
          "base_uri": "https://localhost:8080/"
        },
        "outputId": "21a90e3f-8bf7-427c-ebc4-ccaa491a83bc"
      },
      "execution_count": 70,
      "outputs": [
        {
          "output_type": "stream",
          "name": "stdout",
          "text": [
            "Com base nas informações fornecidas sobre o perfil do candidato, a vaga que parece mais adequada é a de \"Assistente de RH\". O candidato tem experiência na área de recursos humanos, especificamente em recrutamento e seleção, e treinamento e desenvolvimento, que são competências valiosas para essa posição. Além disso, a vaga requer habilidades de gerenciar várias tarefas e prazos eficientemente, que o candidato pode ter adquirido através de sua experiência como Analista de Assuntos Regulatórios Pleno. A vaga também pede alguém que more em SP capital, mas o local de residência do candidato não foi indicado no perfil fornecido, então isso seria necessário verificar.\n"
          ]
        }
      ]
    },
    {
      "cell_type": "markdown",
      "source": [
        "2. Matching dos 3 primeiros candidatos"
      ],
      "metadata": {
        "id": "uolAdR01YWIq"
      }
    },
    {
      "cell_type": "code",
      "source": [
        "import time\n",
        "\n",
        "# Função para gerar a tabela de correspondências para os primeiros 3 candidatos para testar\n",
        "def gerar_tabela_correspondencias(num_candidatos=3):\n",
        "    correspondencias = []  # Inicializando a lista para armazenar as correspondências\n",
        "\n",
        "    total_candidatos = min(num_candidatos, len(talentos_informacoes_gerais))  # Limitar ao número de candidatos disponíveis\n",
        "\n",
        "    for i in range(total_candidatos):  # Loop pelos primeiros 3 candidatos ou o total disponível\n",
        "        id_candidato = talentos_informacoes_gerais['id_candidato'].iloc[i]\n",
        "        print(f\"Processando candidato {i+1}/{total_candidatos} (ID: {id_candidato})\")\n",
        "\n",
        "        # Chamada à função que recomenda a vaga\n",
        "        recomendacao = recomendar_vaga_completa(id_candidato)\n",
        "\n",
        "        # Simulando a extração da vaga compatível e o percentual de compatibilidade da resposta do GPT\n",
        "        try:\n",
        "            vaga_compativel = recomendacao.split(\"Vaga recomendada:\")[1].split(\".\")[0].strip()\n",
        "            percentual_compatibilidade = recomendacao.split(\"Percentual de compatibilidade:\")[1].split(\"%\")[0].strip()\n",
        "            justificativa = recomendacao.split(\"Justificativa:\")[1].strip()\n",
        "        except:\n",
        "            vaga_compativel = \"Não identificada\"\n",
        "            percentual_compatibilidade = \"N/A\"\n",
        "            justificativa = recomendacao\n",
        "\n",
        "        # Acessar o id e cargo atual do candidato\n",
        "        cargo_candidato = talentos_informacoes_gerais['cargo_candidato'].iloc[i]\n",
        "\n",
        "        # Adicionar as correspondências para cada candidato na lista\n",
        "        correspondencias.append({\n",
        "            \"id_candidato\": id_candidato,\n",
        "            \"cargo_atual\": cargo_candidato,\n",
        "            \"vaga_compativel\": vaga_compativel,\n",
        "            \"percentual_compatibilidade\": percentual_compatibilidade,\n",
        "            \"justificativa\": justificativa\n",
        "        })\n",
        "\n",
        "        # Pausar para não sobrecarregar a API\n",
        "        time.sleep(1)\n",
        "\n",
        "    # Converter a lista de dicionários em um DataFrame\n",
        "    correspondencias_df = pd.DataFrame(correspondencias)\n",
        "\n",
        "    # Retornar o DataFrame final\n",
        "    return correspondencias_df\n",
        "\n",
        "# Gerar a tabela com as correspondências para os primeiros 3 candidatos\n",
        "tabela_correspondencias = gerar_tabela_correspondencias(num_candidatos=3)"
      ],
      "metadata": {
        "colab": {
          "base_uri": "https://localhost:8080/"
        },
        "id": "vmwtxUrSSeIj",
        "outputId": "d0caaba1-c1ef-40ca-ece4-ae9fb1fa608e"
      },
      "execution_count": null,
      "outputs": [
        {
          "output_type": "stream",
          "name": "stdout",
          "text": [
            "Processando candidato 1/3 (ID: 1)\n",
            "Processando candidato 2/3 (ID: 2)\n",
            "Processando candidato 3/3 (ID: 3)\n",
            "   id_candidato                            cargo_atual   vaga_compativel  \\\n",
            "0             1                 Consultora estratégica  Não identificada   \n",
            "1             2               Agile Master, KMP, PSM-I  Não identificada   \n",
            "2             3  Especialista em Consultoria de Gestão  Não identificada   \n",
            "\n",
            "  percentual_compatibilidade  \\\n",
            "0                        N/A   \n",
            "1                        N/A   \n",
            "2                        N/A   \n",
            "\n",
            "                                       justificativa  \n",
            "0  Baseado no seu perfil, a vaga de \"Coordenadora...  \n",
            "1  Analisei o seu perfil e as vagas disponíveis e...  \n",
            "2  Olá, com base no seu perfil e nas vagas dispon...  \n"
          ]
        }
      ]
    },
    {
      "cell_type": "markdown",
      "source": [
        "4. Alimentando os resultados em planilha no drive\n",
        "\n"
      ],
      "metadata": {
        "id": "do42_KwuYd6c"
      }
    },
    {
      "cell_type": "code",
      "source": [
        "# Caminho para o arquivo existente no Google Drive (substitua pelo caminho correto)\n",
        "file_path = '/content/drive/MyDrive/Portfólio/sistema_recomendacao_vagas/tabela_correspondencias_candidatos.csv.xlsx'\n",
        "\n",
        "# Ler a planilha existente\n",
        "df_existing = pd.read_excel(file_path)\n",
        "\n",
        "# Exibir a planilha original (opcional)\n",
        "print(\"Planilha original:\")\n",
        "print(df_existing.head())\n",
        "\n",
        "# Gerar a nova tabela de correspondências (por exemplo, os primeiros 3 candidatos)\n",
        "tabela_correspondencias = gerar_tabela_correspondencias(num_candidatos=3)\n",
        "\n",
        "# Atualizar os dados existentes com a nova tabela (append ou substituição)\n",
        "# Se quiser adicionar os novos dados ao final da planilha existente:\n",
        "df_updated = pd.concat([df_existing, tabela_correspondencias], ignore_index=True)\n",
        "\n",
        "# Salvar a planilha atualizada de volta no Google Drive\n",
        "df_updated.to_excel(file_path, index=False)\n",
        "\n",
        "print(\"Planilha atualizada com sucesso!\")"
      ],
      "metadata": {
        "colab": {
          "base_uri": "https://localhost:8080/"
        },
        "id": "UjLKLFKeVS0M",
        "outputId": "1286b206-f8d8-409d-cb9b-4ad74bdee711"
      },
      "execution_count": null,
      "outputs": [
        {
          "output_type": "stream",
          "name": "stdout",
          "text": [
            "Planilha original:\n",
            "   id_candidato                            cargo_atual   vaga_compativel  \\\n",
            "0             1                 Consultora estratégica  Não identificada   \n",
            "1             2               Agile Master, KMP, PSM-I  Não identificada   \n",
            "2             3  Especialista em Consultoria de Gestão  Não identificada   \n",
            "\n",
            "   percentual_compatibilidade  \\\n",
            "0                         NaN   \n",
            "1                         NaN   \n",
            "2                         NaN   \n",
            "\n",
            "                                                                                                                                                                                                                                                                                                                                                                                                                                                                                                                                                                                                                                                                                                                                                                                                                                                                                                                                                                                                                                                                                                                                                                                                                                                                                                                                                                                                                                                                                                                                                                                                                     justificativa  \n",
            "0                                                                                                                                                                                                                                                                                                                                                                    Baseado no seu perfil, a vaga de \"Coordenadora financeiro/controller\" parece ser a mais adequada para o seu conjunto de competências e experiências.\\n\\nCompatibilidade: 85%\\n\\nJustificativa:\\n\\n1. O cargo exige sólida experiência em controle de gestão e planejamento financeiro, área na qual você adquiriu experiência significativa durante o seu tempo como \"Analista de Assuntos Regulatórios Pleno\". \\n\\n2. A formação em administração mesclada com a experiência em consultoria estratégica indica que você possui uma compreensão sólida dos princípios de gestão, que são requeridos para esta posição.\\n\\n3. Outro aspecto relevante é a sua formação em liderança. Essa competência indica que você está familiarizado com os princípios de gerir uma equipe e pode lidar com responsabilidades de alto nível. Importante para o cargo de Coordenador.\\n\\nNo entanto, a fluência em inglês é um requisito para essa posição e isso não foi mencionado no seu perfil, por isso a porcentagem de compatibilidade não está completa. Se você possui esse conhecimento, a porcentagem de compatibilidade pode ser ainda maior. Recomenda-se que, caso você tenha esse domínio, ele conste em seu perfil ou currículo para futuras oportunidades.  \n",
            "1  Analisei o seu perfil e as vagas disponíveis e, considerando a sua experiência e competências, acredito que uma boa opção para você seria o cargo de \"Coordenadora Financeiro/Controller\". \\n\\nEssa vaga exige sólida experiência em controle de gestão e planejamento financeiro, habilidade analítica para interpretar dados financeiros, conhecimento em projeção de fluxo de caixa e balanço patrimonial, além de Inglês avançado. Mesmo que sua experiência seja mais voltada para Agile Master, seu MBA em gerenciamento pode ter fornecido algumas dessas habilidades. Além disso, as habilidades de gerenciamento e planejamento que você provavelmente desenvolveu como Agile Master também poderiam ser transferíveis para essa posição.\\n\\nDessa forma, eu diria que você tem aproximadamente 50% de compatibilidade com essa posição - isso é uma estimativa aproximada, pois sem uma avaliação mais aprofundada de suas habilidades e competências exatas, seria difícil fornecer uma porcentagem mais precisa.\\n\\nPorém, é importante destacar que nem todos os requisitos para essa vaga podem corresponder exatamente às suas competências e experiências atuais. No entanto, acredito que seja uma boa oportunidade para o seu crescimento e desenvolvimento de carreira, levando em conta sua formação e experiência profissional.\\n\\nRecomendo que se prepare bem para o processo seletivo, revise suas experiências prévias e como elas podem se relacionar com este papel e não hesite em realçar as habilidades transferíveis que você possui ao interagir com os recrutadores. \\n\\nDesejo-lhe boa sorte!  \n",
            "2                                                                                                                                                                                                                      Olá, com base no seu perfil e nas vagas disponíveis, eu recomendaria a vaga de \"Coordenadora financeiro/controller\" como a mais adequada para você.\\n\\nPrimeiramente, considerando o cargo atual de Especialista em Consultoria de Gestão, é evidente a familiaridade com processos de gestão, planejamento e controle, habilidades que são destacadas como requisitos para a vaga de \"Coordenadora financeiro/controller\". Além disso, o seu histórico de mentoria em startups cria uma conexão interessante com responsabilidades de gestão de faturamento e abertura de pontos de vendas, atividades que são provavelmente realizadas em startups e empresas emergentes.\\n\\nEm relação à sua educação, a pós-graduação em gestão comercial combina bem com a função, especialmente considerando a parte de controle de gestão e planejamento financeiro.\\n\\nPor fim, as suas competências em técnicas de consultoria em gestão empresarial sugerem um certo grau de habilidade analítica, que é um dos principais requisitos para a função.\\n\\nEu estimaria uma compatibilidade de 70% com base nas informações fornecidas. Essa compatibilidade pode aumentar se, por exemplo, você tem experiência em projeção de fluxo de caixa e balanço patrimonial, ou tem fluência em inglês.\\n\\nEspero que esta recomendação seja útil para você e estou à disposição para quaisquer esclarecimentos adicionais.  \n",
            "Processando candidato 1/3 (ID: 1)\n",
            "Processando candidato 2/3 (ID: 2)\n",
            "Processando candidato 3/3 (ID: 3)\n",
            "Planilha atualizada com sucesso!\n"
          ]
        }
      ]
    },
    {
      "cell_type": "markdown",
      "source": [
        "5. Matching para id's específicos"
      ],
      "metadata": {
        "id": "4brE3M85ZJJc"
      }
    },
    {
      "cell_type": "code",
      "source": [],
      "metadata": {
        "id": "lGcjicVVPNik"
      },
      "execution_count": null,
      "outputs": []
    }
  ]
}